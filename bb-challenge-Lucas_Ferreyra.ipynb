{
 "cells": [
  {
   "cell_type": "code",
   "execution_count": 1,
   "metadata": {},
   "outputs": [
    {
     "name": "stdout",
     "output_type": "stream",
     "text": [
      "Requirement already satisfied: bs4 in c:\\users\\lucas\\anaconda3\\lib\\site-packages (0.0.1)\n",
      "Requirement already satisfied: beautifulsoup4 in c:\\users\\lucas\\anaconda3\\lib\\site-packages (from bs4) (4.9.1)\n",
      "Requirement already satisfied: soupsieve>1.2 in c:\\users\\lucas\\anaconda3\\lib\\site-packages (from beautifulsoup4->bs4) (2.0.1)\n",
      "Note: you may need to restart the kernel to use updated packages.\n"
     ]
    }
   ],
   "source": [
    "pip install bs4"
   ]
  },
  {
   "cell_type": "code",
   "execution_count": 236,
   "metadata": {},
   "outputs": [],
   "source": [
    "from urllib.request import urlopen as url_request # #is going to grab the page \n",
    "from bs4 import BeautifulSoup as soup #to parse the HTML text\n",
    "\n",
    "my_url = \"https://acorn.tv/browse/all/\"\n",
    "\n",
    "page = url_request(my_url) #descargando la pagina \n",
    "page_raw = page.read() #leo y guardo en page_raw todos los datos q descargue en el paso anterior\n",
    "page.close() #cierro la conexión\n",
    "\n",
    "page_soup = soup(page_raw, \"html.parser\") #soup me lo parsea como html, que es lo que quiero\n"
   ]
  },
  {
   "cell_type": "code",
   "execution_count": 237,
   "metadata": {},
   "outputs": [],
   "source": [
    "containers = page_soup.findAll(\"div\", {\"class\":\"col-sm-6 col-md-6 col-lg-3\"}) ##Noté el contenedor que tiene la info de cada pelicula\n",
    "\n",
    "filename = \"acorn.csv\"\n",
    "with open(filename, \"w\", encoding=\"utf-8\") as f:\n",
    "    headers = \"TITLE, URL, DESCRIPTION\" + \"\\n\"\n",
    "    f.write(headers)\n",
    "    for container in containers:\n",
    "        url = container.a[\"href\"] # URL DE LAS PELICULAS\n",
    "        my_url = url\n",
    "        page = url_request(my_url) #descargando la pagina \n",
    "        page_raw = page.read() #leo y guardo en page_raw todos los datos q descargue en el paso anterior\n",
    "        page.close() #cierro la conexión\n",
    "        page_soup = soup(page_raw, \"html.parser\") #soup me lo parsea como html, que es lo que quiero\n",
    "        containers_descrip = page_soup.find(\"p\", {\"id\":\"franchise-description\", \"itemprop\": \"description\"})\n",
    "\n",
    "        description = containers_descrip.text\n",
    "\n",
    "        title = container.img[\"title\"] #Título de cada pelicula\n",
    "        #print(\"title: \" + title)\n",
    "        #print(\"url: \" + url)\n",
    "        #print(\"description: \" + description)\n",
    "        \n",
    "\n",
    "        f.write(title.replace(\",\", \"|\") + \",\" + url + \",\" + description.replace(\",\",\"|\") +\"\\n\")\n",
    "\n",
    "\n"
   ]
  },
  {
   "cell_type": "code",
   "execution_count": null,
   "metadata": {},
   "outputs": [],
   "source": []
  }
 ],
 "metadata": {
  "kernelspec": {
   "display_name": "Python 3",
   "language": "python",
   "name": "python3"
  },
  "language_info": {
   "codemirror_mode": {
    "name": "ipython",
    "version": 3
   },
   "file_extension": ".py",
   "mimetype": "text/x-python",
   "name": "python",
   "nbconvert_exporter": "python",
   "pygments_lexer": "ipython3",
   "version": "3.8.3"
  }
 },
 "nbformat": 4,
 "nbformat_minor": 4
}
